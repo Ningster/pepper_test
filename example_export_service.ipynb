{
 "cells": [
  {
   "cell_type": "code",
   "execution_count": null,
   "metadata": {
    "collapsed": true
   },
   "outputs": [],
   "source": [
    "import qi\n",
    "import sys\n",
    "\n",
    "class Foo:\n",
    "\n",
    "    def bar(self):\n",
    "        print(\"bar\")\n",
    "\n",
    "if __name__ == \"__main__\":\n",
    "    app = qi.Application(sys.argv)\n",
    "\n",
    "    # start the session\n",
    "    app.start()\n",
    "\n",
    "    app.session.registerService(\"foo\", Foo())\n",
    "\n",
    "    app.run()   # will exit when the connection is over"
   ]
  }
 ],
 "metadata": {
  "kernelspec": {
   "display_name": "Python 2",
   "language": "python",
   "name": "python2"
  },
  "language_info": {
   "codemirror_mode": {
    "name": "ipython",
    "version": 2
   },
   "file_extension": ".py",
   "mimetype": "text/x-python",
   "name": "python",
   "nbconvert_exporter": "python",
   "pygments_lexer": "ipython2",
   "version": "2.7.10"
  }
 },
 "nbformat": 4,
 "nbformat_minor": 2
}
